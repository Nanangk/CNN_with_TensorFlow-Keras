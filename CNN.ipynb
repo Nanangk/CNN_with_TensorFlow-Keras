{
  "nbformat": 4,
  "nbformat_minor": 0,
  "metadata": {
    "colab": {
      "name": "CNN.ipynb",
      "provenance": [],
      "collapsed_sections": [],
      "authorship_tag": "ABX9TyMDgJw+iqdcM2hsB/QztajR",
      "include_colab_link": true
    },
    "kernelspec": {
      "name": "python3",
      "display_name": "Python 3"
    },
    "accelerator": "GPU"
  },
  "cells": [
    {
      "cell_type": "markdown",
      "metadata": {
        "id": "view-in-github",
        "colab_type": "text"
      },
      "source": [
        "<a href=\"https://colab.research.google.com/github/Nanangk/CNN_with_TensorFlow-Keras/blob/master/CNN.ipynb\" target=\"_parent\"><img src=\"https://colab.research.google.com/assets/colab-badge.svg\" alt=\"Open In Colab\"/></a>"
      ]
    },
    {
      "cell_type": "markdown",
      "metadata": {
        "id": "Q7jyt4Aux1Hu",
        "colab_type": "text"
      },
      "source": [
        "#Convolutional Neural Network With TenserFlow + Keras"
      ]
    },
    {
      "cell_type": "markdown",
      "metadata": {
        "id": "c8yUiQZ10kvU",
        "colab_type": "text"
      },
      "source": [
        "Import Library yang dibutuhkan"
      ]
    },
    {
      "cell_type": "code",
      "metadata": {
        "id": "LHZiRdb9ywD9",
        "colab_type": "code",
        "colab": {}
      },
      "source": [
        "import keras\n",
        "import numpy as np\n",
        "from keras.datasets import mnist\n",
        "from keras.models import Sequential\n",
        "from keras.layers import Conv2D, MaxPooling2D\n",
        "from keras.layers import Dense, Dropout, Activation, Flatten\n",
        "import matplotlib.pyplot as plt\n",
        "import tensorflow as tf\n",
        "from keras.callbacks import TensorBoard"
      ],
      "execution_count": 2,
      "outputs": []
    },
    {
      "cell_type": "code",
      "metadata": {
        "id": "AxizOOL_yyHl",
        "colab_type": "code",
        "colab": {
          "base_uri": "https://localhost:8080/",
          "height": 50
        },
        "outputId": "ab7685c3-14f1-46e4-ab23-c86e55dc9680"
      },
      "source": [
        "#Download datanya\n",
        "(xtrain, ytrain),(xtest, ytest) = mnist.load_data()"
      ],
      "execution_count": 3,
      "outputs": [
        {
          "output_type": "stream",
          "text": [
            "Downloading data from https://s3.amazonaws.com/img-datasets/mnist.npz\n",
            "11493376/11490434 [==============================] - 0s 0us/step\n"
          ],
          "name": "stdout"
        }
      ]
    },
    {
      "cell_type": "markdown",
      "metadata": {
        "id": "7OzEgTxd15l6",
        "colab_type": "text"
      },
      "source": [
        "Mari kita cek Jumlah data dan sizenya"
      ]
    },
    {
      "cell_type": "code",
      "metadata": {
        "id": "lEbhKDaY2Cs_",
        "colab_type": "code",
        "colab": {
          "base_uri": "https://localhost:8080/",
          "height": 33
        },
        "outputId": "d81b755d-5c1a-4ecf-9cf3-6f838bd185fc"
      },
      "source": [
        "xtrain.shape"
      ],
      "execution_count": 4,
      "outputs": [
        {
          "output_type": "execute_result",
          "data": {
            "text/plain": [
              "(60000, 28, 28)"
            ]
          },
          "metadata": {
            "tags": []
          },
          "execution_count": 4
        }
      ]
    },
    {
      "cell_type": "code",
      "metadata": {
        "id": "7gFUUAY1oIE9",
        "colab_type": "code",
        "colab": {
          "base_uri": "https://localhost:8080/",
          "height": 33
        },
        "outputId": "40e97605-557d-4f04-97fd-7b1e9b1e33a9"
      },
      "source": [
        "xtest.shape"
      ],
      "execution_count": 5,
      "outputs": [
        {
          "output_type": "execute_result",
          "data": {
            "text/plain": [
              "(10000, 28, 28)"
            ]
          },
          "metadata": {
            "tags": []
          },
          "execution_count": 5
        }
      ]
    },
    {
      "cell_type": "markdown",
      "metadata": {
        "id": "6Ec6NgsR2R-7",
        "colab_type": "text"
      },
      "source": [
        "Terdapat 60.000 Gambar data training dan 1000 gambar data testing dengan size 28 x 28 piksel"
      ]
    },
    {
      "cell_type": "code",
      "metadata": {
        "id": "Th0L_TW72EjL",
        "colab_type": "code",
        "colab": {
          "base_uri": "https://localhost:8080/",
          "height": 281
        },
        "outputId": "8985a597-37a1-41b3-f6e9-e2ea3a130e75"
      },
      "source": [
        "#coba cek gambarnya\n",
        "plt.imshow(xtest[3000])"
      ],
      "execution_count": 6,
      "outputs": [
        {
          "output_type": "execute_result",
          "data": {
            "text/plain": [
              "<matplotlib.image.AxesImage at 0x7f5568d01f60>"
            ]
          },
          "metadata": {
            "tags": []
          },
          "execution_count": 6
        },
        {
          "output_type": "display_data",
          "data": {
            "image/png": "[encoded data removed]",
            "text/plain": [
              "<Figure size 432x288 with 1 Axes>"
            ]
          },
          "metadata": {
            "tags": [],
            "needs_background": "light"
          }
        }
      ]
    },
    {
      "cell_type": "code",
      "metadata": {
        "id": "ei__v6U5o65u",
        "colab_type": "code",
        "colab": {
          "base_uri": "https://localhost:8080/",
          "height": 33
        },
        "outputId": "4c8bbd9e-b17b-40b3-d8ee-fd51b0359409"
      },
      "source": [
        "ytest[3000]"
      ],
      "execution_count": 7,
      "outputs": [
        {
          "output_type": "execute_result",
          "data": {
            "text/plain": [
              "6"
            ]
          },
          "metadata": {
            "tags": []
          },
          "execution_count": 7
        }
      ]
    },
    {
      "cell_type": "code",
      "metadata": {
        "id": "to8_RK3r2pnt",
        "colab_type": "code",
        "colab": {
          "base_uri": "https://localhost:8080/",
          "height": 33
        },
        "outputId": "a8851b93-e709-4a8b-de02-dad543c3384b"
      },
      "source": [
        "#cek ytrain masih berupa numerical\n",
        "ytrain[3000]"
      ],
      "execution_count": 8,
      "outputs": [
        {
          "output_type": "execute_result",
          "data": {
            "text/plain": [
              "9"
            ]
          },
          "metadata": {
            "tags": []
          },
          "execution_count": 8
        }
      ]
    },
    {
      "cell_type": "code",
      "metadata": {
        "id": "nKvPpTrk4L8h",
        "colab_type": "code",
        "colab": {}
      },
      "source": [
        "xtrain = xtrain.reshape(60000, 28,28,1)\n",
        "xtest = xtest.reshape(10000,28,28,1)"
      ],
      "execution_count": 9,
      "outputs": []
    },
    {
      "cell_type": "code",
      "metadata": {
        "id": "5051jZZZ413f",
        "colab_type": "code",
        "colab": {}
      },
      "source": [
        "#konversi ytrain dan ytest dari numerical ke ctegorical\n",
        "ytrain = keras.utils.to_categorical(ytrain, 10)\n",
        "ytest = keras.utils.to_categorical(ytest, 10)"
      ],
      "execution_count": 10,
      "outputs": []
    },
    {
      "cell_type": "markdown",
      "metadata": {
        "id": "VV0UGAZa7dMn",
        "colab_type": "text"
      },
      "source": [
        "Buat Model CNN nya"
      ]
    },
    {
      "cell_type": "code",
      "metadata": {
        "id": "u4KcOxf27gkb",
        "colab_type": "code",
        "colab": {}
      },
      "source": [
        ""
      ],
      "execution_count": 10,
      "outputs": []
    },
    {
      "cell_type": "code",
      "metadata": {
        "id": "EKbxQUEI7j5p",
        "colab_type": "code",
        "colab": {
          "base_uri": "https://localhost:8080/",
          "height": 70
        },
        "outputId": "3dcaf1e9-47bd-4725-ae9a-1f04a48725c1"
      },
      "source": [
        "model = Sequential()\n",
        "model.add(Conv2D(32, kernel_size = (3,3), activation='linear', padding='same', input_shape=(28,28,1)))\n",
        "model.add(Conv2D(64, (3,3), activation='linear', padding='same'))\n",
        "model.add(MaxPooling2D(pool_size=(2,2)))\n",
        "model.add(Dropout(0.25))\n",
        "model.add(Flatten())\n",
        "model.add(Dense(64, activation='linear'))\n",
        "model.add(Dropout(0.25))\n",
        "model.add(Dense(10, activation=Activation(tf.nn.softmax)))\n"
      ],
      "execution_count": 11,
      "outputs": [
        {
          "output_type": "stream",
          "text": [
            "/usr/local/lib/python3.6/dist-packages/keras/activations.py:235: UserWarning: Do not pass a layer instance (such as Activation) as the activation argument of another layer. Instead, advanced activation layers should be used just like any other layer in a model.\n",
            "  identifier=identifier.__class__.__name__))\n"
          ],
          "name": "stderr"
        }
      ]
    },
    {
      "cell_type": "markdown",
      "metadata": {
        "id": "Mq7alMl5_QWl",
        "colab_type": "text"
      },
      "source": [
        "Liat Bentuk Modelnya"
      ]
    },
    {
      "cell_type": "code",
      "metadata": {
        "id": "NW3Bcx6l_TA9",
        "colab_type": "code",
        "colab": {
          "base_uri": "https://localhost:8080/",
          "height": 418
        },
        "outputId": "203592a6-737b-4ef3-bf41-0889eca87a5e"
      },
      "source": [
        "model.summary()"
      ],
      "execution_count": 12,
      "outputs": [
        {
          "output_type": "stream",
          "text": [
            "Model: \"sequential_1\"\n",
            "_________________________________________________________________\n",
            "Layer (type)                 Output Shape              Param #   \n",
            "=================================================================\n",
            "conv2d_1 (Conv2D)            (None, 28, 28, 32)        320       \n",
            "_________________________________________________________________\n",
            "conv2d_2 (Conv2D)            (None, 28, 28, 64)        18496     \n",
            "_________________________________________________________________\n",
            "max_pooling2d_1 (MaxPooling2 (None, 14, 14, 64)        0         \n",
            "_________________________________________________________________\n",
            "dropout_1 (Dropout)          (None, 14, 14, 64)        0         \n",
            "_________________________________________________________________\n",
            "flatten_1 (Flatten)          (None, 12544)             0         \n",
            "_________________________________________________________________\n",
            "dense_1 (Dense)              (None, 64)                802880    \n",
            "_________________________________________________________________\n",
            "dropout_2 (Dropout)          (None, 64)                0         \n",
            "_________________________________________________________________\n",
            "dense_2 (Dense)              (None, 10)                650       \n",
            "=================================================================\n",
            "Total params: 822,346\n",
            "Trainable params: 822,346\n",
            "Non-trainable params: 0\n",
            "_________________________________________________________________\n"
          ],
          "name": "stdout"
        }
      ]
    },
    {
      "cell_type": "markdown",
      "metadata": {
        "id": "xt4mD_uoANVA",
        "colab_type": "text"
      },
      "source": [
        "Compile Modelnya"
      ]
    },
    {
      "cell_type": "code",
      "metadata": {
        "id": "6BntBKb7APzp",
        "colab_type": "code",
        "colab": {}
      },
      "source": [
        "model.compile(loss=keras.losses.categorical_crossentropy,\n",
        "              optimizer=keras.optimizers.Adadelta(), metrics=['accuracy'])"
      ],
      "execution_count": 13,
      "outputs": []
    },
    {
      "cell_type": "code",
      "metadata": {
        "id": "ngNSlFH49mtu",
        "colab_type": "code",
        "colab": {}
      },
      "source": [
        "#Tensorboard utk melihat grafik proses training model nanti\n",
        "callbacks = TensorBoard(log_dir='./Graph')"
      ],
      "execution_count": 14,
      "outputs": []
    },
    {
      "cell_type": "markdown",
      "metadata": {
        "id": "zLJ984NUA2MB",
        "colab_type": "text"
      },
      "source": [
        "Waktunya Mentraining"
      ]
    },
    {
      "cell_type": "code",
      "metadata": {
        "id": "GFhJKjC6A5tQ",
        "colab_type": "code",
        "colab": {
          "base_uri": "https://localhost:8080/",
          "height": 401
        },
        "outputId": "66bc509a-5056-44fe-a3be-d94c85de1ac2"
      },
      "source": [
        "model.fit(xtrain, ytrain, \n",
        "          batch_size=64, \n",
        "          epochs=10, \n",
        "          verbose=1,\n",
        "          validation_data=(xtest, ytest),\n",
        "          callbacks=[callbacks])"
      ],
      "execution_count": 16,
      "outputs": [
        {
          "output_type": "stream",
          "text": [
            "Train on 60000 samples, validate on 10000 samples\n",
            "WARNING:tensorflow:Model failed to serialize as JSON. Ignoring... 'Activation' object has no attribute '__name__'\n",
            "Epoch 1/10\n",
            "60000/60000 [==============================] - 23s 390us/step - loss: 3.2009 - accuracy: 0.8837 - val_loss: 1.2678 - val_accuracy: 0.9201\n",
            "Epoch 2/10\n",
            "60000/60000 [==============================] - 17s 283us/step - loss: 0.9062 - accuracy: 0.9305 - val_loss: 0.4089 - val_accuracy: 0.9593\n",
            "Epoch 3/10\n",
            "60000/60000 [==============================] - 17s 282us/step - loss: 0.4177 - accuracy: 0.9408 - val_loss: 0.1941 - val_accuracy: 0.9602\n",
            "Epoch 4/10\n",
            "60000/60000 [==============================] - 17s 284us/step - loss: 0.2204 - accuracy: 0.9495 - val_loss: 0.1600 - val_accuracy: 0.9560\n",
            "Epoch 5/10\n",
            "60000/60000 [==============================] - 17s 283us/step - loss: 0.1534 - accuracy: 0.9573 - val_loss: 0.1040 - val_accuracy: 0.9693\n",
            "Epoch 6/10\n",
            "60000/60000 [==============================] - 17s 283us/step - loss: 0.1282 - accuracy: 0.9627 - val_loss: 0.1115 - val_accuracy: 0.9696\n",
            "Epoch 7/10\n",
            "60000/60000 [==============================] - 17s 287us/step - loss: 0.1200 - accuracy: 0.9650 - val_loss: 0.1080 - val_accuracy: 0.9698\n",
            "Epoch 8/10\n",
            "60000/60000 [==============================] - 17s 282us/step - loss: 0.1102 - accuracy: 0.9678 - val_loss: 0.0990 - val_accuracy: 0.9695\n",
            "Epoch 9/10\n",
            "60000/60000 [==============================] - 17s 283us/step - loss: 0.1108 - accuracy: 0.9667 - val_loss: 0.1086 - val_accuracy: 0.9692\n",
            "Epoch 10/10\n",
            "60000/60000 [==============================] - 17s 282us/step - loss: 0.1030 - accuracy: 0.9696 - val_loss: 0.1141 - val_accuracy: 0.9678\n"
          ],
          "name": "stdout"
        },
        {
          "output_type": "execute_result",
          "data": {
            "text/plain": [
              "<keras.callbacks.callbacks.History at 0x7f5560771ba8>"
            ]
          },
          "metadata": {
            "tags": []
          },
          "execution_count": 16
        }
      ]
    },
    {
      "cell_type": "markdown",
      "metadata": {
        "id": "ESiHBu14GOQ-",
        "colab_type": "text"
      },
      "source": [
        "Coba Predict"
      ]
    },
    {
      "cell_type": "code",
      "metadata": {
        "id": "Ta70a74pGSJh",
        "colab_type": "code",
        "colab": {
          "base_uri": "https://localhost:8080/",
          "height": 445
        },
        "outputId": "6b937001-2889-47e8-c546-59d90bf56341"
      },
      "source": [
        "datatest = xtest[650]\n",
        "xd = model.predict(datatest.reshape(1,28,28,1))\n",
        "xd=xd[0]\n",
        "xs=np.arange(0,10,1)\n",
        "import matplotlib.pyplot as plt\n",
        "fig, ax = plt.subplots(figsize=(20,7))\n",
        "ax.bar(xs,xd)\n",
        "plt.show()\n",
        "\n",
        "a_max = xd.max()\n",
        "mylist = xd\n",
        "i=0\n",
        "for i in range(len(mylist)):\n",
        "  if mylist[i] == a_max:\n",
        "    print(str(a_max * 100)+ '% menunjukkan ini angka :' +str(i))\n",
        "  i+=1\n",
        "   "
      ],
      "execution_count": 28,
      "outputs": [
        {
          "output_type": "display_data",
          "data": {
            "image/png": "[encoded data removed]",
            "text/plain": [
              "<Figure size 1440x504 with 1 Axes>"
            ]
          },
          "metadata": {
            "tags": [],
            "needs_background": "light"
          }
        },
        {
          "output_type": "stream",
          "text": [
            "99.99915361404419% menunjukkan ini angka :6\n"
          ],
          "name": "stdout"
        }
      ]
    },
    {
      "cell_type": "code",
      "metadata": {
        "id": "yLaCPWYaI4Vz",
        "colab_type": "code",
        "colab": {
          "base_uri": "https://localhost:8080/",
          "height": 33
        },
        "outputId": "983d570c-fe6c-4da7-80b0-7182702a213b"
      },
      "source": [
        "#mau nyari posisi angka di data test\n",
        "def cari(x):\n",
        "  i=0\n",
        "  for i in range(len(ytest)):\n",
        "    if x == np.argmax(ytest[i], axis=-1) :\n",
        "      print(\"ada di index \"+str(i))\n",
        "      break  \n",
        "\n",
        "cari(8)"
      ],
      "execution_count": 25,
      "outputs": [
        {
          "output_type": "stream",
          "text": [
            "ada di index 61\n"
          ],
          "name": "stdout"
        }
      ]
    },
    {
      "cell_type": "code",
      "metadata": {
        "id": "TJX8CX3JasTi",
        "colab_type": "code",
        "colab": {}
      },
      "source": [
        ""
      ],
      "execution_count": null,
      "outputs": []
    }
  ]
}