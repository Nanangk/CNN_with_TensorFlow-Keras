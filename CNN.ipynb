{
  "nbformat": 4,
  "nbformat_minor": 0,
  "metadata": {
    "colab": {
      "name": "CNN.ipynb",
      "provenance": [],
      "collapsed_sections": [],
      "authorship_tag": "ABX9TyN3Np6tOA47IctZClvyRO6Q",
      "include_colab_link": true
    },
    "kernelspec": {
      "name": "python3",
      "display_name": "Python 3"
    },
    "accelerator": "GPU"
  },
  "cells": [
    {
      "cell_type": "markdown",
      "metadata": {
        "id": "view-in-github",
        "colab_type": "text"
      },
      "source": [
        "<a href=\"https://colab.research.google.com/github/Nanangk/CNN_with_TensorFlow-Keras/blob/master/CNN.ipynb\" target=\"_parent\"><img src=\"https://colab.research.google.com/assets/colab-badge.svg\" alt=\"Open In Colab\"/></a>"
      ]
    },
    {
      "cell_type": "markdown",
      "metadata": {
        "id": "Q7jyt4Aux1Hu",
        "colab_type": "text"
      },
      "source": [
        "**Convolutional Neural Network With TenserFlow + Keras**"
      ]
    },
    {
      "cell_type": "markdown",
      "metadata": {
        "id": "c8yUiQZ10kvU",
        "colab_type": "text"
      },
      "source": [
        "Import Library yang dibutuhkan"
      ]
    },
    {
      "cell_type": "code",
      "metadata": {
        "id": "LHZiRdb9ywD9",
        "colab_type": "code",
        "colab": {}
      },
      "source": [
        "import keras\n",
        "from keras.datasets import mnist\n",
        "from keras.models import Sequential\n",
        "from keras.layers import Conv2D, MaxPooling2D\n",
        "from keras.layers import Dense, Dropout, Activation, Flatten\n",
        "import matplotlib.pyplot as plt\n",
        "import tensorflow as tf"
      ],
      "execution_count": 0,
      "outputs": []
    },
    {
      "cell_type": "code",
      "metadata": {
        "id": "AxizOOL_yyHl",
        "colab_type": "code",
        "colab": {}
      },
      "source": [
        "#Download datanya\n",
        "(xtrain, ytrain),(xtest, ytest) = mnist.load_data()"
      ],
      "execution_count": 0,
      "outputs": []
    },
    {
      "cell_type": "markdown",
      "metadata": {
        "id": "7OzEgTxd15l6",
        "colab_type": "text"
      },
      "source": [
        "Mari kita cek Jumlah data dan sizenya"
      ]
    },
    {
      "cell_type": "code",
      "metadata": {
        "id": "lEbhKDaY2Cs_",
        "colab_type": "code",
        "outputId": "b73826b4-ac5b-412f-f6f7-6db6a616ac90",
        "colab": {
          "base_uri": "https://localhost:8080/",
          "height": 34
        }
      },
      "source": [
        "xtrain.shape"
      ],
      "execution_count": 102,
      "outputs": [
        {
          "output_type": "execute_result",
          "data": {
            "text/plain": [
              "(60000, 28, 28)"
            ]
          },
          "metadata": {
            "tags": []
          },
          "execution_count": 102
        }
      ]
    },
    {
      "cell_type": "code",
      "metadata": {
        "id": "7gFUUAY1oIE9",
        "colab_type": "code",
        "outputId": "eb652373-5a86-4c8b-922a-4dc3d7a30fd7",
        "colab": {
          "base_uri": "https://localhost:8080/",
          "height": 34
        }
      },
      "source": [
        "xtest.shape"
      ],
      "execution_count": 103,
      "outputs": [
        {
          "output_type": "execute_result",
          "data": {
            "text/plain": [
              "(10000, 28, 28)"
            ]
          },
          "metadata": {
            "tags": []
          },
          "execution_count": 103
        }
      ]
    },
    {
      "cell_type": "markdown",
      "metadata": {
        "id": "6Ec6NgsR2R-7",
        "colab_type": "text"
      },
      "source": [
        "Terdapat 60.000 Gambar data training dan 1000 gambar data testing dengan size 28 x 28 piksel"
      ]
    },
    {
      "cell_type": "code",
      "metadata": {
        "id": "Th0L_TW72EjL",
        "colab_type": "code",
        "outputId": "8ecc29b4-08f3-403a-ca75-af067b5671fd",
        "colab": {
          "base_uri": "https://localhost:8080/",
          "height": 282
        }
      },
      "source": [
        "#coba cek gambarnya\n",
        "plt.imshow(xtest[3000])"
      ],
      "execution_count": 104,
      "outputs": [
        {
          "output_type": "execute_result",
          "data": {
            "text/plain": [
              "<matplotlib.image.AxesImage at 0x7fa6c7584080>"
            ]
          },
          "metadata": {
            "tags": []
          },
          "execution_count": 104
        },
        {
          "output_type": "display_data",
          "data": {
            "image/png": "[encoded data removed]",
            "text/plain": [
              "<Figure size 432x288 with 1 Axes>"
            ]
          },
          "metadata": {
            "tags": [],
            "needs_background": "light"
          }
        }
      ]
    },
    {
      "cell_type": "code",
      "metadata": {
        "id": "ei__v6U5o65u",
        "colab_type": "code",
        "outputId": "a65f4d41-0321-49f3-d8ac-7a0b6b82c531",
        "colab": {
          "base_uri": "https://localhost:8080/",
          "height": 34
        }
      },
      "source": [
        "ytest[3000]"
      ],
      "execution_count": 105,
      "outputs": [
        {
          "output_type": "execute_result",
          "data": {
            "text/plain": [
              "6"
            ]
          },
          "metadata": {
            "tags": []
          },
          "execution_count": 105
        }
      ]
    },
    {
      "cell_type": "code",
      "metadata": {
        "id": "to8_RK3r2pnt",
        "colab_type": "code",
        "outputId": "f3dae599-f1fe-4c22-e253-7601cab1f3d8",
        "colab": {
          "base_uri": "https://localhost:8080/",
          "height": 34
        }
      },
      "source": [
        "#cek ytrain masih berupa numerical\n",
        "ytrain[3000]"
      ],
      "execution_count": 106,
      "outputs": [
        {
          "output_type": "execute_result",
          "data": {
            "text/plain": [
              "9"
            ]
          },
          "metadata": {
            "tags": []
          },
          "execution_count": 106
        }
      ]
    },
    {
      "cell_type": "code",
      "metadata": {
        "id": "nKvPpTrk4L8h",
        "colab_type": "code",
        "colab": {}
      },
      "source": [
        "xtrain = xtrain.reshape(60000, 28,28,1)\n",
        "xtest = xtest.reshape(10000,28,28,1)"
      ],
      "execution_count": 0,
      "outputs": []
    },
    {
      "cell_type": "code",
      "metadata": {
        "id": "5051jZZZ413f",
        "colab_type": "code",
        "colab": {}
      },
      "source": [
        "#konversi ytrain dan ytest dari numerical ke ctegorical\n",
        "ytrain = keras.utils.to_categorical(ytrain, 10)\n",
        "ytest = keras.utils.to_categorical(ytest, 10)"
      ],
      "execution_count": 0,
      "outputs": []
    },
    {
      "cell_type": "markdown",
      "metadata": {
        "id": "VV0UGAZa7dMn",
        "colab_type": "text"
      },
      "source": [
        "Buat Model CNN nya"
      ]
    },
    {
      "cell_type": "code",
      "metadata": {
        "id": "u4KcOxf27gkb",
        "colab_type": "code",
        "colab": {}
      },
      "source": [
        "model = Sequential()"
      ],
      "execution_count": 0,
      "outputs": []
    },
    {
      "cell_type": "code",
      "metadata": {
        "id": "EKbxQUEI7j5p",
        "colab_type": "code",
        "outputId": "05bd5426-8dec-48c3-80ed-a16d74bb6d2a",
        "colab": {
          "base_uri": "https://localhost:8080/",
          "height": 72
        }
      },
      "source": [
        "model.add(Conv2D(32, kernel_size = (3,3), activation='relu', padding='same', input_shape=(28,28,1)))\n",
        "model.add(Conv2D(64, (3,3), activation='relu', padding='same'))\n",
        "model.add(MaxPooling2D(pool_size=(2,2)))\n",
        "model.add(Dropout(0.25))\n",
        "model.add(Flatten())\n",
        "model.add(Dense(64, activation='relu'))\n",
        "model.add(Dropout(0.25))\n",
        "model.add(Dense(10, activation=Activation(tf.nn.softmax)))\n"
      ],
      "execution_count": 110,
      "outputs": [
        {
          "output_type": "stream",
          "text": [
            "/usr/local/lib/python3.6/dist-packages/keras/activations.py:235: UserWarning: Do not pass a layer instance (such as Activation) as the activation argument of another layer. Instead, advanced activation layers should be used just like any other layer in a model.\n",
            "  identifier=identifier.__class__.__name__))\n"
          ],
          "name": "stderr"
        }
      ]
    },
    {
      "cell_type": "markdown",
      "metadata": {
        "id": "Mq7alMl5_QWl",
        "colab_type": "text"
      },
      "source": [
        "Liat Bentuk Modelnya"
      ]
    },
    {
      "cell_type": "code",
      "metadata": {
        "id": "NW3Bcx6l_TA9",
        "colab_type": "code",
        "outputId": "ddea7388-cb74-4adc-8445-1b59eda917f1",
        "colab": {
          "base_uri": "https://localhost:8080/",
          "height": 439
        }
      },
      "source": [
        "model.summary()"
      ],
      "execution_count": 111,
      "outputs": [
        {
          "output_type": "stream",
          "text": [
            "Model: \"sequential_4\"\n",
            "_________________________________________________________________\n",
            "Layer (type)                 Output Shape              Param #   \n",
            "=================================================================\n",
            "conv2d_13 (Conv2D)           (None, 28, 28, 32)        320       \n",
            "_________________________________________________________________\n",
            "conv2d_14 (Conv2D)           (None, 28, 28, 64)        18496     \n",
            "_________________________________________________________________\n",
            "max_pooling2d_4 (MaxPooling2 (None, 14, 14, 64)        0         \n",
            "_________________________________________________________________\n",
            "dropout_7 (Dropout)          (None, 14, 14, 64)        0         \n",
            "_________________________________________________________________\n",
            "flatten_4 (Flatten)          (None, 12544)             0         \n",
            "_________________________________________________________________\n",
            "dense_7 (Dense)              (None, 64)                802880    \n",
            "_________________________________________________________________\n",
            "dropout_8 (Dropout)          (None, 64)                0         \n",
            "_________________________________________________________________\n",
            "dense_8 (Dense)              (None, 10)                650       \n",
            "=================================================================\n",
            "Total params: 822,346\n",
            "Trainable params: 822,346\n",
            "Non-trainable params: 0\n",
            "_________________________________________________________________\n"
          ],
          "name": "stdout"
        }
      ]
    },
    {
      "cell_type": "markdown",
      "metadata": {
        "id": "xt4mD_uoANVA",
        "colab_type": "text"
      },
      "source": [
        "Compile Modelnya"
      ]
    },
    {
      "cell_type": "code",
      "metadata": {
        "id": "6BntBKb7APzp",
        "colab_type": "code",
        "colab": {}
      },
      "source": [
        "model.compile(loss=keras.losses.categorical_crossentropy,\n",
        "              optimizer=keras.optimizers.Adadelta(), metrics=['accuracy'])"
      ],
      "execution_count": 0,
      "outputs": []
    },
    {
      "cell_type": "markdown",
      "metadata": {
        "id": "zLJ984NUA2MB",
        "colab_type": "text"
      },
      "source": [
        "Waktunya Mentraining"
      ]
    },
    {
      "cell_type": "code",
      "metadata": {
        "id": "GFhJKjC6A5tQ",
        "colab_type": "code",
        "outputId": "e9120cbf-314b-4e92-b0ef-f4ba98ee06ed",
        "colab": {
          "base_uri": "https://localhost:8080/",
          "height": 228
        }
      },
      "source": [
        "model.fit(xtrain, ytrain, \n",
        "          batch_size=128, \n",
        "          epochs=5, \n",
        "          verbose=1,\n",
        "          validation_data=(xtest, ytest))"
      ],
      "execution_count": 113,
      "outputs": [
        {
          "output_type": "stream",
          "text": [
            "Train on 60000 samples, validate on 10000 samples\n",
            "Epoch 1/5\n",
            "60000/60000 [==============================] - 6s 93us/step - loss: 0.9140 - accuracy: 0.8374 - val_loss: 0.0821 - val_accuracy: 0.9745\n",
            "Epoch 2/5\n",
            "60000/60000 [==============================] - 5s 86us/step - loss: 0.1109 - accuracy: 0.9680 - val_loss: 0.0511 - val_accuracy: 0.9835\n",
            "Epoch 3/5\n",
            "60000/60000 [==============================] - 5s 86us/step - loss: 0.0727 - accuracy: 0.9787 - val_loss: 0.0474 - val_accuracy: 0.9852\n",
            "Epoch 4/5\n",
            "60000/60000 [==============================] - 5s 86us/step - loss: 0.0551 - accuracy: 0.9835 - val_loss: 0.0402 - val_accuracy: 0.9886\n",
            "Epoch 5/5\n",
            "60000/60000 [==============================] - 5s 86us/step - loss: 0.0432 - accuracy: 0.9870 - val_loss: 0.0392 - val_accuracy: 0.9883\n"
          ],
          "name": "stdout"
        },
        {
          "output_type": "execute_result",
          "data": {
            "text/plain": [
              "<keras.callbacks.callbacks.History at 0x7fa6c75b9a20>"
            ]
          },
          "metadata": {
            "tags": []
          },
          "execution_count": 113
        }
      ]
    },
    {
      "cell_type": "markdown",
      "metadata": {
        "id": "ESiHBu14GOQ-",
        "colab_type": "text"
      },
      "source": [
        "Coba Predict"
      ]
    },
    {
      "cell_type": "code",
      "metadata": {
        "id": "Ta70a74pGSJh",
        "colab_type": "code",
        "outputId": "7989f39a-7f80-4c1f-eaf0-681c60260811",
        "colab": {
          "base_uri": "https://localhost:8080/",
          "height": 70
        }
      },
      "source": [
        "xd = model.predict(xtest[11].reshape(1,28,28,1))\n",
        "xd"
      ],
      "execution_count": 114,
      "outputs": [
        {
          "output_type": "execute_result",
          "data": {
            "text/plain": [
              "array([[2.70071291e-06, 5.04402401e-13, 1.17978943e-11, 1.86363815e-12,\n",
              "        2.35532492e-12, 2.80594645e-12, 9.99997258e-01, 1.27907515e-14,\n",
              "        2.14110174e-09, 2.70239340e-15]], dtype=float32)"
            ]
          },
          "metadata": {
            "tags": []
          },
          "execution_count": 114
        }
      ]
    },
    {
      "cell_type": "code",
      "metadata": {
        "id": "zAH4ajavGd4O",
        "colab_type": "code",
        "outputId": "d521ad53-4b9c-4bca-fdac-c7604f5c0df5",
        "colab": {
          "base_uri": "https://localhost:8080/",
          "height": 34
        }
      },
      "source": [
        "ytest[11]"
      ],
      "execution_count": 115,
      "outputs": [
        {
          "output_type": "execute_result",
          "data": {
            "text/plain": [
              "array([0., 0., 0., 0., 0., 0., 1., 0., 0., 0.], dtype=float32)"
            ]
          },
          "metadata": {
            "tags": []
          },
          "execution_count": 115
        }
      ]
    },
    {
      "cell_type": "code",
      "metadata": {
        "id": "Rt41dTqYEjff",
        "colab_type": "code",
        "outputId": "a921580a-609d-45c2-a899-53b969b8060a",
        "colab": {
          "base_uri": "https://localhost:8080/",
          "height": 34
        }
      },
      "source": [
        "#mari kita uji\n",
        "def uji(xd):\n",
        "  a_max = xd.max()\n",
        "  mylist = xd[0]\n",
        "  i=0\n",
        "  for i in range(len(mylist)):\n",
        "    if mylist[i] == a_max:\n",
        "      print(str(a_max * 100)+ '% menunjukkan ini angka :' +str(i))\n",
        "    i+=1\n",
        "   \n",
        "uji(xd)"
      ],
      "execution_count": 116,
      "outputs": [
        {
          "output_type": "stream",
          "text": [
            "99.99972581863403% menunjukkan ini angka :6\n"
          ],
          "name": "stdout"
        }
      ]
    },
    {
      "cell_type": "code",
      "metadata": {
        "id": "yLaCPWYaI4Vz",
        "colab_type": "code",
        "colab": {}
      },
      "source": [
        ""
      ],
      "execution_count": 0,
      "outputs": []
    }
  ]
}