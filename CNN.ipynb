{
  "nbformat": 4,
  "nbformat_minor": 0,
  "metadata": {
    "colab": {
      "name": "CNN.ipynb",
      "provenance": [],
      "collapsed_sections": [],
      "authorship_tag": "ABX9TyMR9FSE+XykS4kyrfjuZ5Qx",
      "include_colab_link": true
    },
    "kernelspec": {
      "name": "python3",
      "display_name": "Python 3"
    },
    "accelerator": "GPU"
  },
  "cells": [
    {
      "cell_type": "markdown",
      "metadata": {
        "id": "view-in-github",
        "colab_type": "text"
      },
      "source": [
        "<a href=\"https://colab.research.google.com/github/Nanangk/CNN_with_TensorFlow-Keras/blob/master/CNN.ipynb\" target=\"_parent\"><img src=\"https://colab.research.google.com/assets/colab-badge.svg\" alt=\"Open In Colab\"/></a>"
      ]
    },
    {
      "cell_type": "markdown",
      "metadata": {
        "id": "Q7jyt4Aux1Hu",
        "colab_type": "text"
      },
      "source": [
        "**Convolutional Neural Network With TenserFlow + Keras**"
      ]
    },
    {
      "cell_type": "markdown",
      "metadata": {
        "id": "c8yUiQZ10kvU",
        "colab_type": "text"
      },
      "source": [
        "Import Library yang dibutuhkan"
      ]
    },
    {
      "cell_type": "code",
      "metadata": {
        "id": "LHZiRdb9ywD9",
        "colab_type": "code",
        "outputId": "cf295e8d-6519-46e7-b704-31f2786aaf9a",
        "colab": {
          "base_uri": "https://localhost:8080/",
          "height": 34
        }
      },
      "source": [
        "import keras\n",
        "from keras.datasets import mnist\n",
        "from keras.models import Sequential\n",
        "from keras.layers import Conv2D, MaxPooling2D\n",
        "from keras.layers import Dense, Dropout, Activation, Flatten\n",
        "import matplotlib.pyplot as plt\n",
        "import tensorflow as tf"
      ],
      "execution_count": 0,
      "outputs": [
        {
          "output_type": "stream",
          "text": [
            "Using TensorFlow backend.\n"
          ],
          "name": "stderr"
        }
      ]
    },
    {
      "cell_type": "code",
      "metadata": {
        "id": "AxizOOL_yyHl",
        "colab_type": "code",
        "outputId": "a3cb0055-67df-4d31-a732-da2d5745de70",
        "colab": {
          "base_uri": "https://localhost:8080/",
          "height": 52
        }
      },
      "source": [
        "#Download datanya\n",
        "(xtrain, ytrain),(xtest, ytest) = mnist.load_data()"
      ],
      "execution_count": 0,
      "outputs": [
        {
          "output_type": "stream",
          "text": [
            "Downloading data from https://s3.amazonaws.com/img-datasets/mnist.npz\n",
            "11493376/11490434 [==============================] - 2s 0us/step\n"
          ],
          "name": "stdout"
        }
      ]
    },
    {
      "cell_type": "markdown",
      "metadata": {
        "id": "7OzEgTxd15l6",
        "colab_type": "text"
      },
      "source": [
        "Mari kita cek Jumlah data dan sizenya"
      ]
    },
    {
      "cell_type": "code",
      "metadata": {
        "id": "lEbhKDaY2Cs_",
        "colab_type": "code",
        "outputId": "6ba77ce7-114d-4a7a-a89c-ba40596afb66",
        "colab": {
          "base_uri": "https://localhost:8080/",
          "height": 34
        }
      },
      "source": [
        "xtrain.shape"
      ],
      "execution_count": 0,
      "outputs": [
        {
          "output_type": "execute_result",
          "data": {
            "text/plain": [
              "(60000, 28, 28)"
            ]
          },
          "metadata": {
            "tags": []
          },
          "execution_count": 3
        }
      ]
    },
    {
      "cell_type": "code",
      "metadata": {
        "id": "7gFUUAY1oIE9",
        "colab_type": "code",
        "outputId": "b6d098ef-f481-4eec-e20e-a9d729c95015",
        "colab": {
          "base_uri": "https://localhost:8080/",
          "height": 34
        }
      },
      "source": [
        "xtest.shape"
      ],
      "execution_count": 0,
      "outputs": [
        {
          "output_type": "execute_result",
          "data": {
            "text/plain": [
              "(10000, 28, 28)"
            ]
          },
          "metadata": {
            "tags": []
          },
          "execution_count": 4
        }
      ]
    },
    {
      "cell_type": "markdown",
      "metadata": {
        "id": "6Ec6NgsR2R-7",
        "colab_type": "text"
      },
      "source": [
        "Terdapat 60.000 Gambar data training dan 1000 gambar data testing dengan size 28 x 28 piksel"
      ]
    },
    {
      "cell_type": "code",
      "metadata": {
        "id": "Th0L_TW72EjL",
        "colab_type": "code",
        "outputId": "baa51e01-857d-441b-bd84-317c29811004",
        "colab": {
          "base_uri": "https://localhost:8080/",
          "height": 282
        }
      },
      "source": [
        "#coba cek gambarnya\n",
        "plt.imshow(xtest[3000])"
      ],
      "execution_count": 0,
      "outputs": [
        {
          "output_type": "execute_result",
          "data": {
            "text/plain": [
              "<matplotlib.image.AxesImage at 0x7fa72b0fdb38>"
            ]
          },
          "metadata": {
            "tags": []
          },
          "execution_count": 5
        },
        {
          "output_type": "display_data",
          "data": {
            "image/png": "[encoded data removed]",
            "text/plain": [
              "<Figure size 432x288 with 1 Axes>"
            ]
          },
          "metadata": {
            "tags": [],
            "needs_background": "light"
          }
        }
      ]
    },
    {
      "cell_type": "code",
      "metadata": {
        "id": "ei__v6U5o65u",
        "colab_type": "code",
        "outputId": "63e145ef-87d9-4a7b-d288-ce83422d45c4",
        "colab": {
          "base_uri": "https://localhost:8080/",
          "height": 34
        }
      },
      "source": [
        "ytest[3000]"
      ],
      "execution_count": 0,
      "outputs": [
        {
          "output_type": "execute_result",
          "data": {
            "text/plain": [
              "6"
            ]
          },
          "metadata": {
            "tags": []
          },
          "execution_count": 6
        }
      ]
    },
    {
      "cell_type": "code",
      "metadata": {
        "id": "to8_RK3r2pnt",
        "colab_type": "code",
        "outputId": "42e6293c-b58e-4c1a-e8e9-a68579cea58e",
        "colab": {
          "base_uri": "https://localhost:8080/",
          "height": 34
        }
      },
      "source": [
        "#cek ytrain masih berupa numerical\n",
        "ytrain[3000]"
      ],
      "execution_count": 0,
      "outputs": [
        {
          "output_type": "execute_result",
          "data": {
            "text/plain": [
              "9"
            ]
          },
          "metadata": {
            "tags": []
          },
          "execution_count": 7
        }
      ]
    },
    {
      "cell_type": "code",
      "metadata": {
        "id": "nKvPpTrk4L8h",
        "colab_type": "code",
        "colab": {}
      },
      "source": [
        "xtrain = xtrain.reshape(60000, 28,28,1)\n",
        "xtest = xtest.reshape(10000,28,28,1)"
      ],
      "execution_count": 0,
      "outputs": []
    },
    {
      "cell_type": "code",
      "metadata": {
        "id": "5051jZZZ413f",
        "colab_type": "code",
        "colab": {}
      },
      "source": [
        "#konversi ytrain dan ytest dari numerical ke ctegorical\n",
        "ytrain = keras.utils.to_categorical(ytrain, 10)\n",
        "ytest = keras.utils.to_categorical(ytest, 10)"
      ],
      "execution_count": 0,
      "outputs": []
    },
    {
      "cell_type": "markdown",
      "metadata": {
        "id": "VV0UGAZa7dMn",
        "colab_type": "text"
      },
      "source": [
        "Buat Model CNN nya"
      ]
    },
    {
      "cell_type": "code",
      "metadata": {
        "id": "u4KcOxf27gkb",
        "colab_type": "code",
        "colab": {}
      },
      "source": [
        "model = Sequential()"
      ],
      "execution_count": 0,
      "outputs": []
    },
    {
      "cell_type": "code",
      "metadata": {
        "id": "EKbxQUEI7j5p",
        "colab_type": "code",
        "outputId": "9724f98c-a518-49ce-e1e8-26735cda4014",
        "colab": {
          "base_uri": "https://localhost:8080/",
          "height": 72
        }
      },
      "source": [
        "model.add(Conv2D(32, kernel_size = (3,3), activation='relu', input_shape=(28,28,1)))\n",
        "model.add(Conv2D(64, (3,3), activation='relu'))\n",
        "model.add(Conv2D(128, (3,3), activation='relu'))\n",
        "model.add(MaxPooling2D(pool_size=(2,2)))\n",
        "model.add(Dropout(0.25))\n",
        "model.add(Flatten())\n",
        "model.add(Dense(128, activation='relu'))\n",
        "model.add(Dropout(0.5))\n",
        "model.add(Dense(10, activation=Activation(tf.nn.softmax)))\n"
      ],
      "execution_count": 0,
      "outputs": [
        {
          "output_type": "stream",
          "text": [
            "/usr/local/lib/python3.6/dist-packages/keras/activations.py:235: UserWarning: Do not pass a layer instance (such as Activation) as the activation argument of another layer. Instead, advanced activation layers should be used just like any other layer in a model.\n",
            "  identifier=identifier.__class__.__name__))\n"
          ],
          "name": "stderr"
        }
      ]
    },
    {
      "cell_type": "markdown",
      "metadata": {
        "id": "Mq7alMl5_QWl",
        "colab_type": "text"
      },
      "source": [
        "Liat Bentuk Modelnya"
      ]
    },
    {
      "cell_type": "code",
      "metadata": {
        "id": "NW3Bcx6l_TA9",
        "colab_type": "code",
        "outputId": "9f13d103-449c-4b45-a028-694192d297c1",
        "colab": {
          "base_uri": "https://localhost:8080/",
          "height": 474
        }
      },
      "source": [
        "model.summary()"
      ],
      "execution_count": 0,
      "outputs": [
        {
          "output_type": "stream",
          "text": [
            "Model: \"sequential_1\"\n",
            "_________________________________________________________________\n",
            "Layer (type)                 Output Shape              Param #   \n",
            "=================================================================\n",
            "conv2d_1 (Conv2D)            (None, 26, 26, 32)        320       \n",
            "_________________________________________________________________\n",
            "conv2d_2 (Conv2D)            (None, 24, 24, 64)        18496     \n",
            "_________________________________________________________________\n",
            "conv2d_3 (Conv2D)            (None, 22, 22, 128)       73856     \n",
            "_________________________________________________________________\n",
            "max_pooling2d_1 (MaxPooling2 (None, 11, 11, 128)       0         \n",
            "_________________________________________________________________\n",
            "dropout_1 (Dropout)          (None, 11, 11, 128)       0         \n",
            "_________________________________________________________________\n",
            "flatten_1 (Flatten)          (None, 15488)             0         \n",
            "_________________________________________________________________\n",
            "dense_1 (Dense)              (None, 128)               1982592   \n",
            "_________________________________________________________________\n",
            "dropout_2 (Dropout)          (None, 128)               0         \n",
            "_________________________________________________________________\n",
            "dense_2 (Dense)              (None, 10)                1290      \n",
            "=================================================================\n",
            "Total params: 2,076,554\n",
            "Trainable params: 2,076,554\n",
            "Non-trainable params: 0\n",
            "_________________________________________________________________\n"
          ],
          "name": "stdout"
        }
      ]
    },
    {
      "cell_type": "markdown",
      "metadata": {
        "id": "xt4mD_uoANVA",
        "colab_type": "text"
      },
      "source": [
        "Compile Modelnya"
      ]
    },
    {
      "cell_type": "code",
      "metadata": {
        "id": "6BntBKb7APzp",
        "colab_type": "code",
        "colab": {}
      },
      "source": [
        "model.compile(loss=keras.losses.categorical_crossentropy,\n",
        "              optimizer=keras.optimizers.Adadelta(), metrics=['accuracy'])"
      ],
      "execution_count": 0,
      "outputs": []
    },
    {
      "cell_type": "markdown",
      "metadata": {
        "id": "zLJ984NUA2MB",
        "colab_type": "text"
      },
      "source": [
        "Waktunya Mentraining"
      ]
    },
    {
      "cell_type": "code",
      "metadata": {
        "id": "GFhJKjC6A5tQ",
        "colab_type": "code",
        "outputId": "63f10a1b-a425-463c-dd1d-2f9a9b734d20",
        "colab": {
          "base_uri": "https://localhost:8080/",
          "height": 228
        }
      },
      "source": [
        "model.fit(xtrain, ytrain, \n",
        "          batch_size=128, \n",
        "          epochs=5, \n",
        "          verbose=1,\n",
        "          validation_data=(xtest, ytest))"
      ],
      "execution_count": 0,
      "outputs": [
        {
          "output_type": "stream",
          "text": [
            "Train on 60000 samples, validate on 10000 samples\n",
            "Epoch 1/5\n",
            "60000/60000 [==============================] - 16s 259us/step - loss: 0.6275 - accuracy: 0.9097 - val_loss: 0.0600 - val_accuracy: 0.9802\n",
            "Epoch 2/5\n",
            "60000/60000 [==============================] - 8s 135us/step - loss: 0.0961 - accuracy: 0.9728 - val_loss: 0.0464 - val_accuracy: 0.9849\n",
            "Epoch 3/5\n",
            "60000/60000 [==============================] - 8s 135us/step - loss: 0.0654 - accuracy: 0.9819 - val_loss: 0.0301 - val_accuracy: 0.9896\n",
            "Epoch 4/5\n",
            "60000/60000 [==============================] - 8s 135us/step - loss: 0.0508 - accuracy: 0.9858 - val_loss: 0.0360 - val_accuracy: 0.9891\n",
            "Epoch 5/5\n",
            "60000/60000 [==============================] - 8s 136us/step - loss: 0.0405 - accuracy: 0.9881 - val_loss: 0.0294 - val_accuracy: 0.9907\n"
          ],
          "name": "stdout"
        },
        {
          "output_type": "execute_result",
          "data": {
            "text/plain": [
              "<keras.callbacks.callbacks.History at 0x7fa6ce0bd908>"
            ]
          },
          "metadata": {
            "tags": []
          },
          "execution_count": 14
        }
      ]
    },
    {
      "cell_type": "markdown",
      "metadata": {
        "id": "ESiHBu14GOQ-",
        "colab_type": "text"
      },
      "source": [
        "Coba Predict"
      ]
    },
    {
      "cell_type": "code",
      "metadata": {
        "id": "Ta70a74pGSJh",
        "colab_type": "code",
        "outputId": "f1ce91df-054e-4424-ac4a-ef5096ed1656",
        "colab": {
          "base_uri": "https://localhost:8080/",
          "height": 70
        }
      },
      "source": [
        "xd = model.predict(xtest[11].reshape(1,28,28,1))\n",
        "xd"
      ],
      "execution_count": 53,
      "outputs": [
        {
          "output_type": "execute_result",
          "data": {
            "text/plain": [
              "array([[6.82840152e-07, 8.64914598e-11, 1.27201999e-10, 7.92116980e-12,\n",
              "        2.86201635e-11, 2.75152825e-08, 9.99999285e-01, 1.04435564e-13,\n",
              "        1.04027480e-08, 3.44464735e-11]], dtype=float32)"
            ]
          },
          "metadata": {
            "tags": []
          },
          "execution_count": 53
        }
      ]
    },
    {
      "cell_type": "code",
      "metadata": {
        "id": "zAH4ajavGd4O",
        "colab_type": "code",
        "outputId": "90c732ba-d567-4493-d949-a27d549e9acd",
        "colab": {
          "base_uri": "https://localhost:8080/",
          "height": 34
        }
      },
      "source": [
        "ytest[11]"
      ],
      "execution_count": 54,
      "outputs": [
        {
          "output_type": "execute_result",
          "data": {
            "text/plain": [
              "array([0., 0., 0., 0., 0., 0., 1., 0., 0., 0.], dtype=float32)"
            ]
          },
          "metadata": {
            "tags": []
          },
          "execution_count": 54
        }
      ]
    },
    {
      "cell_type": "code",
      "metadata": {
        "id": "Rt41dTqYEjff",
        "colab_type": "code",
        "outputId": "1e48f8b8-cbcb-466e-d677-de43fb4c06a0",
        "colab": {
          "base_uri": "https://localhost:8080/",
          "height": 34
        }
      },
      "source": [
        "def uji(xd):\n",
        "  a_max = xd.max()\n",
        "  mylist = xd[0]\n",
        "  i=0\n",
        "  for i in range(len(mylist)):\n",
        "    if mylist[i] == a_max:\n",
        "      print(str(a_max * 100)+ '% menunjukkan ini angka :' +str(i))\n",
        "    i+=1\n",
        "   \n",
        "uji(xd)"
      ],
      "execution_count": 55,
      "outputs": [
        {
          "output_type": "stream",
          "text": [
            "99.99992847442627% menunjukkan ini angka :6\n"
          ],
          "name": "stdout"
        }
      ]
    },
    {
      "cell_type": "code",
      "metadata": {
        "id": "yLaCPWYaI4Vz",
        "colab_type": "code",
        "colab": {}
      },
      "source": [
        ""
      ],
      "execution_count": 0,
      "outputs": []
    }
  ]
}