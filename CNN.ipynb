{
  "nbformat": 4,
  "nbformat_minor": 0,
  "metadata": {
    "colab": {
      "name": "CNN.ipynb",
      "provenance": [],
      "collapsed_sections": []
    },
    "kernelspec": {
      "name": "python3",
      "display_name": "Python 3"
    }
  },
  "cells": [
    {
      "cell_type": "markdown",
      "metadata": {
        "id": "Q7jyt4Aux1Hu",
        "colab_type": "text"
      },
      "source": [
        "**Convolutional Neural Network With TenserFlow + Keras**"
      ]
    },
    {
      "cell_type": "markdown",
      "metadata": {
        "id": "c8yUiQZ10kvU",
        "colab_type": "text"
      },
      "source": [
        "Import Library yang dibutuhkan"
      ]
    },
    {
      "cell_type": "code",
      "metadata": {
        "id": "LHZiRdb9ywD9",
        "colab_type": "code",
        "outputId": "899aec6d-4162-404a-9f31-e300d1a42eab",
        "colab": {
          "base_uri": "https://localhost:8080/",
          "height": 34
        }
      },
      "source": [
        "import keras\n",
        "from keras.datasets import mnist\n",
        "from keras.models import Sequential\n",
        "from keras.layers import Conv2D, MaxPooling2D\n",
        "from keras.layers import Dense, Dropout, Activation, Flatten\n",
        "import matplotlib.pyplot as plt\n",
        "import tensorflow as tf"
      ],
      "execution_count": 0,
      "outputs": [
        {
          "output_type": "stream",
          "text": [
            "Using TensorFlow backend.\n"
          ],
          "name": "stderr"
        }
      ]
    },
    {
      "cell_type": "code",
      "metadata": {
        "id": "AxizOOL_yyHl",
        "colab_type": "code",
        "outputId": "39612141-a00e-453c-affe-5b8988a887b6",
        "colab": {
          "base_uri": "https://localhost:8080/",
          "height": 52
        }
      },
      "source": [
        "#Download datanya\n",
        "(xtrain, ytrain),(xtest, ytest) = mnist.load_data()"
      ],
      "execution_count": 0,
      "outputs": [
        {
          "output_type": "stream",
          "text": [
            "Downloading data from https://s3.amazonaws.com/img-datasets/mnist.npz\n",
            "11493376/11490434 [==============================] - 1s 0us/step\n"
          ],
          "name": "stdout"
        }
      ]
    },
    {
      "cell_type": "markdown",
      "metadata": {
        "id": "7OzEgTxd15l6",
        "colab_type": "text"
      },
      "source": [
        "Mari kita cek Jumlah data dan sizenya"
      ]
    },
    {
      "cell_type": "code",
      "metadata": {
        "id": "lEbhKDaY2Cs_",
        "colab_type": "code",
        "outputId": "1d5aeb36-39c2-451d-a840-b6f05458f672",
        "colab": {
          "base_uri": "https://localhost:8080/",
          "height": 34
        }
      },
      "source": [
        "xtrain.shape"
      ],
      "execution_count": 0,
      "outputs": [
        {
          "output_type": "execute_result",
          "data": {
            "text/plain": [
              "(60000, 28, 28)"
            ]
          },
          "metadata": {
            "tags": []
          },
          "execution_count": 4
        }
      ]
    },
    {
      "cell_type": "code",
      "metadata": {
        "id": "7gFUUAY1oIE9",
        "colab_type": "code",
        "outputId": "43c09603-99b8-42ed-87a6-394ed6d2df0e",
        "colab": {
          "base_uri": "https://localhost:8080/",
          "height": 34
        }
      },
      "source": [
        "xtest.shape"
      ],
      "execution_count": 0,
      "outputs": [
        {
          "output_type": "execute_result",
          "data": {
            "text/plain": [
              "(10000, 28, 28)"
            ]
          },
          "metadata": {
            "tags": []
          },
          "execution_count": 5
        }
      ]
    },
    {
      "cell_type": "markdown",
      "metadata": {
        "id": "6Ec6NgsR2R-7",
        "colab_type": "text"
      },
      "source": [
        "Terdapat 60.000 Gambar data training dan 1000 gambar data testing dengan size 28 x 28 piksel"
      ]
    },
    {
      "cell_type": "code",
      "metadata": {
        "id": "Th0L_TW72EjL",
        "colab_type": "code",
        "outputId": "d2c20e50-604d-4ec6-8b48-71e51ff1c08e",
        "colab": {
          "base_uri": "https://localhost:8080/",
          "height": 282
        }
      },
      "source": [
        "#coba cek gambarnya\n",
        "plt.imshow(xtest[3000])"
      ],
      "execution_count": 0,
      "outputs": [
        {
          "output_type": "execute_result",
          "data": {
            "text/plain": [
              "<matplotlib.image.AxesImage at 0x7f2b827f4710>"
            ]
          },
          "metadata": {
            "tags": []
          },
          "execution_count": 6
        },
        {
          "output_type": "display_data",
          "data": {
            "image/png": "[encoded data removed]",
            "text/plain": [
              "<Figure size 432x288 with 1 Axes>"
            ]
          },
          "metadata": {
            "tags": [],
            "needs_background": "light"
          }
        }
      ]
    },
    {
      "cell_type": "code",
      "metadata": {
        "id": "ei__v6U5o65u",
        "colab_type": "code",
        "outputId": "e4d34e81-9814-48a2-9917-39fd1577431e",
        "colab": {
          "base_uri": "https://localhost:8080/",
          "height": 34
        }
      },
      "source": [
        "ytest[3000]"
      ],
      "execution_count": 0,
      "outputs": [
        {
          "output_type": "execute_result",
          "data": {
            "text/plain": [
              "6"
            ]
          },
          "metadata": {
            "tags": []
          },
          "execution_count": 7
        }
      ]
    },
    {
      "cell_type": "code",
      "metadata": {
        "id": "to8_RK3r2pnt",
        "colab_type": "code",
        "outputId": "7ef897d0-5486-4512-b392-bf7b6aa8080a",
        "colab": {
          "base_uri": "https://localhost:8080/",
          "height": 34
        }
      },
      "source": [
        "#cek ytrain masih berupa numerical\n",
        "ytrain[3000]"
      ],
      "execution_count": 0,
      "outputs": [
        {
          "output_type": "execute_result",
          "data": {
            "text/plain": [
              "9"
            ]
          },
          "metadata": {
            "tags": []
          },
          "execution_count": 24
        }
      ]
    },
    {
      "cell_type": "code",
      "metadata": {
        "id": "nKvPpTrk4L8h",
        "colab_type": "code",
        "colab": {}
      },
      "source": [
        "xtrain = xtrain.reshape(60000, 28,28,1)\n",
        "xtest = xtest.reshape(10000,28,28,1)"
      ],
      "execution_count": 0,
      "outputs": []
    },
    {
      "cell_type": "code",
      "metadata": {
        "id": "5051jZZZ413f",
        "colab_type": "code",
        "colab": {}
      },
      "source": [
        "#konversi ytrain dan ytest dari numerical ke ctegorical\n",
        "ytrain = keras.utils.to_categorical(ytrain, 10)\n",
        "ytest = keras.utils.to_categorical(ytest, 10)"
      ],
      "execution_count": 0,
      "outputs": []
    },
    {
      "cell_type": "markdown",
      "metadata": {
        "id": "VV0UGAZa7dMn",
        "colab_type": "text"
      },
      "source": [
        "Buat Model CNN nya"
      ]
    },
    {
      "cell_type": "code",
      "metadata": {
        "id": "u4KcOxf27gkb",
        "colab_type": "code",
        "colab": {}
      },
      "source": [
        "model = Sequential()"
      ],
      "execution_count": 0,
      "outputs": []
    },
    {
      "cell_type": "code",
      "metadata": {
        "id": "EKbxQUEI7j5p",
        "colab_type": "code",
        "colab": {}
      },
      "source": [
        "model.add(Conv2D(32, kernel_size = (3,3), activation='relu', input_shape=(28,28,1)))\n",
        "model.add(Conv2D(64, (3,3), activation='relu'))\n",
        "model.add(Conv2D(128, (3,3), activation='relu'))\n",
        "model.add(MaxPooling2D(pool_size=(2,2)))\n",
        "model.add(Dropout(0.25))\n",
        "model.add(Flatten())\n",
        "model.add(Dense(128, activation='relu'))\n",
        "model.add(Dropout(0.5))\n",
        "model.add(Dense(10, activation=Activation(tf.nn.softmax)))\n"
      ],
      "execution_count": 0,
      "outputs": []
    },
    {
      "cell_type": "markdown",
      "metadata": {
        "id": "Mq7alMl5_QWl",
        "colab_type": "text"
      },
      "source": [
        "Liat Bentuk Modelnya"
      ]
    },
    {
      "cell_type": "code",
      "metadata": {
        "id": "NW3Bcx6l_TA9",
        "colab_type": "code",
        "outputId": "6f238d64-8e5c-4e80-ee1d-68838a8fd9e7",
        "colab": {
          "base_uri": "https://localhost:8080/",
          "height": 474
        }
      },
      "source": [
        "model.summary()"
      ],
      "execution_count": 0,
      "outputs": [
        {
          "output_type": "stream",
          "text": [
            "Model: \"sequential_3\"\n",
            "_________________________________________________________________\n",
            "Layer (type)                 Output Shape              Param #   \n",
            "=================================================================\n",
            "conv2d_8 (Conv2D)            (None, 26, 26, 32)        320       \n",
            "_________________________________________________________________\n",
            "conv2d_9 (Conv2D)            (None, 24, 24, 64)        18496     \n",
            "_________________________________________________________________\n",
            "conv2d_10 (Conv2D)           (None, 22, 22, 128)       73856     \n",
            "_________________________________________________________________\n",
            "max_pooling2d_3 (MaxPooling2 (None, 11, 11, 128)       0         \n",
            "_________________________________________________________________\n",
            "dropout_5 (Dropout)          (None, 11, 11, 128)       0         \n",
            "_________________________________________________________________\n",
            "flatten_3 (Flatten)          (None, 15488)             0         \n",
            "_________________________________________________________________\n",
            "dense_5 (Dense)              (None, 128)               1982592   \n",
            "_________________________________________________________________\n",
            "dropout_6 (Dropout)          (None, 128)               0         \n",
            "_________________________________________________________________\n",
            "dense_6 (Dense)              (None, 10)                1290      \n",
            "=================================================================\n",
            "Total params: 2,076,554\n",
            "Trainable params: 2,076,554\n",
            "Non-trainable params: 0\n",
            "_________________________________________________________________\n"
          ],
          "name": "stdout"
        }
      ]
    },
    {
      "cell_type": "markdown",
      "metadata": {
        "id": "xt4mD_uoANVA",
        "colab_type": "text"
      },
      "source": [
        "Compile Modelnya"
      ]
    },
    {
      "cell_type": "code",
      "metadata": {
        "id": "6BntBKb7APzp",
        "colab_type": "code",
        "colab": {}
      },
      "source": [
        "model.compile(loss=keras.losses.categorical_crossentropy,\n",
        "              optimizer=keras.optimizers.Adadelta(), metrics=['accuracy'])"
      ],
      "execution_count": 0,
      "outputs": []
    },
    {
      "cell_type": "markdown",
      "metadata": {
        "id": "zLJ984NUA2MB",
        "colab_type": "text"
      },
      "source": [
        "Waktunya Mentraining"
      ]
    },
    {
      "cell_type": "code",
      "metadata": {
        "id": "GFhJKjC6A5tQ",
        "colab_type": "code",
        "outputId": "83072459-ca17-4606-9e5e-8bb7a7e55f4d",
        "colab": {
          "base_uri": "https://localhost:8080/",
          "height": 228
        }
      },
      "source": [
        "model.fit(xtrain, ytrain, \n",
        "          batch_size=128, \n",
        "          epochs=5, \n",
        "          verbose=1,\n",
        "          validation_data=(xtest, ytest))"
      ],
      "execution_count": 0,
      "outputs": [
        {
          "output_type": "stream",
          "text": [
            "Train on 60000 samples, validate on 10000 samples\n",
            "Epoch 1/5\n",
            "60000/60000 [==============================] - 23s 388us/step - loss: 0.5879 - accuracy: 0.9159 - val_loss: 0.0555 - val_accuracy: 0.9832\n",
            "Epoch 2/5\n",
            "60000/60000 [==============================] - 17s 282us/step - loss: 0.0875 - accuracy: 0.9747 - val_loss: 0.0407 - val_accuracy: 0.9875\n",
            "Epoch 3/5\n",
            "60000/60000 [==============================] - 17s 282us/step - loss: 0.0604 - accuracy: 0.9823 - val_loss: 0.0404 - val_accuracy: 0.9880\n",
            "Epoch 4/5\n",
            "60000/60000 [==============================] - 17s 280us/step - loss: 0.0478 - accuracy: 0.9858 - val_loss: 0.0287 - val_accuracy: 0.9909\n",
            "Epoch 5/5\n",
            "60000/60000 [==============================] - 17s 280us/step - loss: 0.0373 - accuracy: 0.9894 - val_loss: 0.0293 - val_accuracy: 0.9914\n"
          ],
          "name": "stdout"
        },
        {
          "output_type": "execute_result",
          "data": {
            "text/plain": [
              "<keras.callbacks.callbacks.History at 0x7f66303a7048>"
            ]
          },
          "metadata": {
            "tags": []
          },
          "execution_count": 34
        }
      ]
    },
    {
      "cell_type": "markdown",
      "metadata": {
        "id": "ESiHBu14GOQ-",
        "colab_type": "text"
      },
      "source": [
        "Coba Predict"
      ]
    },
    {
      "cell_type": "code",
      "metadata": {
        "id": "Ta70a74pGSJh",
        "colab_type": "code",
        "outputId": "6f21ab1b-4a0b-4b14-95cd-b506367572a7",
        "colab": {
          "base_uri": "https://localhost:8080/",
          "height": 70
        }
      },
      "source": [
        "model.predict(xtest[3000].reshape(1,28,28,1))"
      ],
      "execution_count": 0,
      "outputs": [
        {
          "output_type": "execute_result",
          "data": {
            "text/plain": [
              "array([[2.1034556e-10, 5.8451620e-12, 7.7228241e-13, 3.3212300e-12,\n",
              "        3.1688815e-11, 4.1273256e-07, 9.9999917e-01, 1.5834323e-13,\n",
              "        4.7108841e-07, 4.6402483e-12]], dtype=float32)"
            ]
          },
          "metadata": {
            "tags": []
          },
          "execution_count": 35
        }
      ]
    },
    {
      "cell_type": "code",
      "metadata": {
        "id": "zAH4ajavGd4O",
        "colab_type": "code",
        "outputId": "da957784-a207-4046-d2a8-d5f5760b167c",
        "colab": {
          "base_uri": "https://localhost:8080/",
          "height": 34
        }
      },
      "source": [
        "ytest[3000]"
      ],
      "execution_count": 0,
      "outputs": [
        {
          "output_type": "execute_result",
          "data": {
            "text/plain": [
              "array([0., 0., 0., 0., 0., 0., 1., 0., 0., 0.], dtype=float32)"
            ]
          },
          "metadata": {
            "tags": []
          },
          "execution_count": 36
        }
      ]
    },
    {
      "cell_type": "code",
      "metadata": {
        "id": "nqlrzLnsHFfN",
        "colab_type": "code",
        "colab": {}
      },
      "source": [
        ""
      ],
      "execution_count": 0,
      "outputs": []
    }
  ]
}